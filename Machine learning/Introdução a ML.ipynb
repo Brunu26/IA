{
 "cells": [
  {
   "cell_type": "markdown",
   "metadata": {},
   "source": [
    "## Introdução ao aprendizado de máquina"
   ]
  },
  {
   "cell_type": "code",
   "execution_count": 1,
   "metadata": {},
   "outputs": [],
   "source": [
    "# perguntas para identificar se o animal é uma vaca ou um jacaré;\n",
    "# é carnivoro?\n",
    "# tem cauda?\n",
    "# é mamifero?\n",
    "# rasteja?\n",
    "\n",
    "# 1 possui a caracteristica 0 não possui (lembrando que esses valores são ficticios)\n",
    "\n",
    "vaca1 = [0,1,1,0]\n",
    "vaca2 = [0,0,1,0]\n",
    "vaca3 = [0,1,0,1]\n",
    "vaca4 = [1,1,1,1]\n",
    "\n",
    "\n",
    "jacare1 = [1,1,0,1]\n",
    "jacare2 = [1,0,0,1]\n",
    "jacare3 = [1,1,1,1]\n",
    "jacare4 = [0,1,0,1]\n",
    "\n",
    "\n",
    "treino_x = [vaca1, vaca2, vaca3, vaca4, jacare1, jacare2, jacare3, jacare4]\n",
    "\n",
    "# vaca = 1 e jacare = 0\n",
    "\n",
    "treino_y = [1,1,1,1,0,0,0,0]"
   ]
  },
  {
   "cell_type": "code",
   "execution_count": 2,
   "metadata": {},
   "outputs": [
    {
     "name": "stdout",
     "output_type": "stream",
     "text": [
      "Collecting sklearn\n",
      "  Using cached sklearn-0.0.tar.gz (1.1 kB)\n",
      "Requirement already satisfied: scikit-learn in c:\\users\\bruno\\appdata\\local\\programs\\python\\python36\\lib\\site-packages (from sklearn) (0.22.2.post1)\n",
      "Requirement already satisfied: scipy>=0.17.0 in c:\\users\\bruno\\appdata\\local\\programs\\python\\python36\\lib\\site-packages (from scikit-learn->sklearn) (1.4.1)\n",
      "Requirement already satisfied: joblib>=0.11 in c:\\users\\bruno\\appdata\\local\\programs\\python\\python36\\lib\\site-packages (from scikit-learn->sklearn) (0.14.1)\n",
      "Requirement already satisfied: numpy>=1.11.0 in c:\\users\\bruno\\appdata\\local\\programs\\python\\python36\\lib\\site-packages (from scikit-learn->sklearn) (1.13.1)\n",
      "Installing collected packages: sklearn\n",
      "    Running setup.py install for sklearn: started\n",
      "    Running setup.py install for sklearn: finished with status 'done'\n",
      "Successfully installed sklearn-0.0\n"
     ]
    }
   ],
   "source": [
    "!pip install sklearn\n"
   ]
  },
  {
   "cell_type": "code",
   "execution_count": 3,
   "metadata": {},
   "outputs": [
    {
     "name": "stderr",
     "output_type": "stream",
     "text": [
      "c:\\users\\bruno\\appdata\\local\\programs\\python\\python36\\lib\\site-packages\\scipy\\__init__.py:144: UserWarning: Numpy 1.13.3 or above is required for this version of scipy (detected version 1.13.1)\n",
      "  UserWarning)\n"
     ]
    },
    {
     "data": {
      "text/plain": [
       "LinearSVC(C=1.0, class_weight=None, dual=True, fit_intercept=True,\n",
       "          intercept_scaling=1, loss='squared_hinge', max_iter=1000,\n",
       "          multi_class='ovr', penalty='l2', random_state=None, tol=0.0001,\n",
       "          verbose=0)"
      ]
     },
     "execution_count": 3,
     "metadata": {},
     "output_type": "execute_result"
    }
   ],
   "source": [
    "# importar o classificador LinearSVC\n",
    "from sklearn.svm import LinearSVC\n",
    "\n",
    "modelo = LinearSVC()\n",
    "modelo.fit(treino_x, treino_y)"
   ]
  },
  {
   "cell_type": "code",
   "execution_count": 14,
   "metadata": {},
   "outputs": [
    {
     "data": {
      "text/plain": [
       "array([1])"
      ]
     },
     "execution_count": 14,
     "metadata": {},
     "output_type": "execute_result"
    }
   ],
   "source": [
    "# fazendo uma predição (vaca = 1 e jacare = 0) deseja-se que o resultado seja = 1,\n",
    "# pois o animal \"misterioso\" é uma vaca.\n",
    "animal_misterioso = [0,1,1,0]\n",
    "modelo.predict([animal_misterioso])"
   ]
  },
  {
   "cell_type": "code",
   "execution_count": 15,
   "metadata": {},
   "outputs": [],
   "source": [
    "animal1 = [1,1,0,1]\n",
    "animal2 = [0,1,1,0]\n",
    "animal3 = [1,1,0,0]\n",
    "\n",
    "#testando com outros animais\n",
    "teste_x = [animal1, animal2, animal3]\n",
    "teste_y = [0,1,0] # valores observados "
   ]
  },
  {
   "cell_type": "code",
   "execution_count": 16,
   "metadata": {},
   "outputs": [
    {
     "data": {
      "text/plain": [
       "array([0, 1, 0])"
      ]
     },
     "execution_count": 16,
     "metadata": {},
     "output_type": "execute_result"
    }
   ],
   "source": [
    "#valor esperado [0, 1, 0]\n",
    "previsoes = modelo.predict(teste_x)\n",
    "previsoes"
   ]
  },
  {
   "cell_type": "code",
   "execution_count": 18,
   "metadata": {},
   "outputs": [
    {
     "data": {
      "text/plain": [
       "1.0"
      ]
     },
     "execution_count": 18,
     "metadata": {},
     "output_type": "execute_result"
    }
   ],
   "source": [
    "# verieficando a acuracia, valor que varia entre 0-1, \n",
    "#acuracia muito proxima de 1, não representa a verdade(mostra que os dados são viciados)\n",
    "from sklearn.metrics import accuracy_score\n",
    "accuracy_score(teste_y, previsoes)"
   ]
  },
  {
   "cell_type": "code",
   "execution_count": null,
   "metadata": {},
   "outputs": [],
   "source": []
  }
 ],
 "metadata": {
  "kernelspec": {
   "display_name": "Python 3",
   "language": "python",
   "name": "python3"
  },
  "language_info": {
   "codemirror_mode": {
    "name": "ipython",
    "version": 3
   },
   "file_extension": ".py",
   "mimetype": "text/x-python",
   "name": "python",
   "nbconvert_exporter": "python",
   "pygments_lexer": "ipython3",
   "version": "3.6.2"
  }
 },
 "nbformat": 4,
 "nbformat_minor": 2
}
