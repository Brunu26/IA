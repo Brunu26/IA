{
  "nbformat": 4,
  "nbformat_minor": 0,
  "metadata": {
    "colab": {
      "name": "Expressões Regulares.ipynb",
      "provenance": [],
      "collapsed_sections": []
    },
    "kernelspec": {
      "name": "python3",
      "display_name": "Python 3"
    }
  },
  "cells": [
    {
      "cell_type": "code",
      "metadata": {
        "id": "_qLvmVZTPcGS",
        "colab_type": "code",
        "colab": {}
      },
      "source": [
        "#Importando o módulo re (regular expression),\n",
        "#Esse módulo fornece operações com expressões regulares (ER)\n",
        "import re"
      ],
      "execution_count": 2,
      "outputs": []
    },
    {
      "cell_type": "code",
      "metadata": {
        "id": "F_-cYiV4PmZE",
        "colab_type": "code",
        "colab": {}
      },
      "source": [
        "#lista de termos para a busca\n",
        "lista_pesquisa = ['seleção','Brasil']"
      ],
      "execution_count": 6,
      "outputs": []
    },
    {
      "cell_type": "code",
      "metadata": {
        "id": "bi4NkBUvQToU",
        "colab_type": "code",
        "colab": {}
      },
      "source": [
        "#texto para o parse\n",
        "texto ='O primeiro jogo do Brasil em uma copa do mundo foi na estreia da competição,'\\\n",
        "'em 1930, no Uruguai. Neste primeiro campeonato, a seleção não conseguiu passar da'\\\n",
        "'primeira fase, quando perdeu por 2 a 1 para a Iugoslávia.'\\\n",
        "'Na copa seguinte o time também foi eliminado na primeira. Dessa maneira a seleção'\\\n",
        "'só foi se recuperar na edição do campeonato de 1938. Nesta edição a seleção terminou'\\\n",
        "'em terceiro lugar no ranking geral.'"
      ],
      "execution_count": 7,
      "outputs": []
    },
    {
      "cell_type": "code",
      "metadata": {
        "id": "6Yl7UEAKQxHJ",
        "colab_type": "code",
        "colab": {
          "base_uri": "https://localhost:8080/",
          "height": 354
        },
        "outputId": "8ffdce74-cc0d-4210-86f4-863db663824c"
      },
      "source": [
        "#Exemplo básico de Data Mining\n",
        "for item in lista_pesquisa:\n",
        "  print('Buscando por \"%s\" em: \\n\\n\"%s\"' %(item,texto))\n",
        "\n",
        "  #verificando se o termo de pesquisa existe no texto\n",
        "  if re.search(item, texto):\n",
        "    print('\\n')\n",
        "    print('Palavra encontrada. \\n')\n",
        "    print('\\n')\n",
        "  else:\n",
        "    print('\\n')\n",
        "    print('Palavra não encontrada.\\n')\n",
        "    print('\\n')"
      ],
      "execution_count": 8,
      "outputs": [
        {
          "output_type": "stream",
          "text": [
            "Buscando por \"seleção\" em: \n",
            "\n",
            "\"O primeiro jogo do Brasil em uma copa do mundo foi na estreia da competição,em 1930, no Uruguai. Neste primeiro campeonato, a seleção não conseguiu passar daprimeira fase, quando perdeu por 2 a 1 para a Iugoslávia.Na copa seguinte o time também foi eliminado na primeira. Dessa maneira a seleçãosó foi se recuperar na edição do campeonato de 1938. Nesta edição a seleção terminouem terceiro lugar no ranking geral.\"\n",
            "\n",
            "\n",
            "Palavra encontrada. \n",
            "\n",
            "\n",
            "\n",
            "Buscando por \"Brasil\" em: \n",
            "\n",
            "\"O primeiro jogo do Brasil em uma copa do mundo foi na estreia da competição,em 1930, no Uruguai. Neste primeiro campeonato, a seleção não conseguiu passar daprimeira fase, quando perdeu por 2 a 1 para a Iugoslávia.Na copa seguinte o time também foi eliminado na primeira. Dessa maneira a seleçãosó foi se recuperar na edição do campeonato de 1938. Nesta edição a seleção terminouem terceiro lugar no ranking geral.\"\n",
            "\n",
            "\n",
            "Palavra encontrada. \n",
            "\n",
            "\n",
            "\n"
          ],
          "name": "stdout"
        }
      ]
    },
    {
      "cell_type": "code",
      "metadata": {
        "id": "pUYG7k7BRvHc",
        "colab_type": "code",
        "colab": {}
      },
      "source": [
        "#Termo usado pra dividir uma string\n",
        "split_term = '@'"
      ],
      "execution_count": 9,
      "outputs": []
    },
    {
      "cell_type": "code",
      "metadata": {
        "id": "243DYhZUSD87",
        "colab_type": "code",
        "colab": {}
      },
      "source": [
        "frase = 'Qual o domínio de alguem com o email: aluno@gmail.com'"
      ],
      "execution_count": 10,
      "outputs": []
    },
    {
      "cell_type": "code",
      "metadata": {
        "id": "VjvT114nSNK7",
        "colab_type": "code",
        "colab": {
          "base_uri": "https://localhost:8080/",
          "height": 34
        },
        "outputId": "62b1d1d3-5618-4265-873f-2680d0a01ece"
      },
      "source": [
        "#dividindo a frase\n",
        "re.split(split_term, frase)"
      ],
      "execution_count": 11,
      "outputs": [
        {
          "output_type": "execute_result",
          "data": {
            "text/plain": [
              "['Qual o domínio de alguem com o email: aluno', 'gmail.com']"
            ]
          },
          "metadata": {
            "tags": []
          },
          "execution_count": 11
        }
      ]
    },
    {
      "cell_type": "code",
      "metadata": {
        "id": "8wq5Huw9SUqc",
        "colab_type": "code",
        "colab": {}
      },
      "source": [
        "def encontra_padrao(lista, frase):\n",
        "    \n",
        "    for item in lista:\n",
        "        print ('Pesquisando na frase: %r' %item)\n",
        "        print (re.findall(item, frase))\n",
        "        print ('\\n')"
      ],
      "execution_count": 12,
      "outputs": []
    },
    {
      "cell_type": "code",
      "metadata": {
        "id": "C74ovZamShqm",
        "colab_type": "code",
        "colab": {}
      },
      "source": [
        "frase_padrao = 'zLzL..zzzLLL...zLLLzLLL...LzLz...dzzzzz...zLLLL'\n",
        "\n",
        "lista_padroes = [ 'zL*',       # z seguido de zero ou mais L\n",
        "                  'zL+',       # z seguido por um ou mais L\n",
        "                  'zL?',       # z seguido por zero ou um L\n",
        "                  'zL{3}',     # z seguido por três L\n",
        "                  'zL{2,3}',   # z seguido por dois a três L\n",
        "                ]\n"
      ],
      "execution_count": 13,
      "outputs": []
    },
    {
      "cell_type": "code",
      "metadata": {
        "id": "3PDg1nOISk7j",
        "colab_type": "code",
        "colab": {
          "base_uri": "https://localhost:8080/",
          "height": 369
        },
        "outputId": "0ea9331d-1751-4f79-8953-a073a3c31828"
      },
      "source": [
        "encontra_padrao(lista_padroes, frase_padrao)"
      ],
      "execution_count": 14,
      "outputs": [
        {
          "output_type": "stream",
          "text": [
            "Pesquisando na frase: 'zL*'\n",
            "['zL', 'zL', 'z', 'z', 'zLLL', 'zLLL', 'zLLL', 'zL', 'z', 'z', 'z', 'z', 'z', 'z', 'zLLLL']\n",
            "\n",
            "\n",
            "Pesquisando na frase: 'zL+'\n",
            "['zL', 'zL', 'zLLL', 'zLLL', 'zLLL', 'zL', 'zLLLL']\n",
            "\n",
            "\n",
            "Pesquisando na frase: 'zL?'\n",
            "['zL', 'zL', 'z', 'z', 'zL', 'zL', 'zL', 'zL', 'z', 'z', 'z', 'z', 'z', 'z', 'zL']\n",
            "\n",
            "\n",
            "Pesquisando na frase: 'zL{3}'\n",
            "['zLLL', 'zLLL', 'zLLL', 'zLLL']\n",
            "\n",
            "\n",
            "Pesquisando na frase: 'zL{2,3}'\n",
            "['zLLL', 'zLLL', 'zLLL', 'zLLL']\n",
            "\n",
            "\n"
          ],
          "name": "stdout"
        }
      ]
    },
    {
      "cell_type": "code",
      "metadata": {
        "id": "L6-7wDNnSrKL",
        "colab_type": "code",
        "colab": {}
      },
      "source": [
        "frase = 'Esta é uma string com pontuação. Isso pode ser um problema quando fazemos mineração de dados em busca '\\\n",
        "        'de padrões! Não seria melhor retirar os sinais ao fim de cada frase?'"
      ],
      "execution_count": 15,
      "outputs": []
    },
    {
      "cell_type": "code",
      "metadata": {
        "id": "KKuv-va5S2zj",
        "colab_type": "code",
        "colab": {
          "base_uri": "https://localhost:8080/",
          "height": 562
        },
        "outputId": "045f5b00-554f-43aa-90fb-6a05bcc14168"
      },
      "source": [
        "# A expressão [^!.? ] verifica por valores que não sejam pontuação \n",
        "# (!, ., ?) e o sinal de adição (+) verifica se o item aparece pelo menos \n",
        "# uma vez. Traduzindo: esta expressão diz: traga apenas as palavras na \n",
        "# frase.\n",
        "re.findall('[^!.? ]+', frase)"
      ],
      "execution_count": 16,
      "outputs": [
        {
          "output_type": "execute_result",
          "data": {
            "text/plain": [
              "['Esta',\n",
              " 'é',\n",
              " 'uma',\n",
              " 'string',\n",
              " 'com',\n",
              " 'pontuação',\n",
              " 'Isso',\n",
              " 'pode',\n",
              " 'ser',\n",
              " 'um',\n",
              " 'problema',\n",
              " 'quando',\n",
              " 'fazemos',\n",
              " 'mineração',\n",
              " 'de',\n",
              " 'dados',\n",
              " 'em',\n",
              " 'busca',\n",
              " 'de',\n",
              " 'padrões',\n",
              " 'Não',\n",
              " 'seria',\n",
              " 'melhor',\n",
              " 'retirar',\n",
              " 'os',\n",
              " 'sinais',\n",
              " 'ao',\n",
              " 'fim',\n",
              " 'de',\n",
              " 'cada',\n",
              " 'frase']"
            ]
          },
          "metadata": {
            "tags": []
          },
          "execution_count": 16
        }
      ]
    },
    {
      "cell_type": "code",
      "metadata": {
        "id": "dMwZHLwHS51z",
        "colab_type": "code",
        "colab": {}
      },
      "source": [
        "frase = 'Esta é uma frase de exemplo. Vamos verificar quais padrões serão encontrados.'\n",
        "\n",
        "lista_padroes = [ '[a-z]+',      # sequência de letras minúsculas\n",
        "                  '[A-Z]+',      # sequência de letras maiúsculas\n",
        "                  '[a-zA-Z]+',   # sequência de letras minúsculas e maiúsculas\n",
        "                  '[A-Z][a-z]+'] # uma letra maiúscula, seguida de uma letra minúscula\n"
      ],
      "execution_count": 17,
      "outputs": []
    },
    {
      "cell_type": "code",
      "metadata": {
        "id": "f-o2eGL4TAjT",
        "colab_type": "code",
        "colab": {
          "base_uri": "https://localhost:8080/",
          "height": 318
        },
        "outputId": "79d0d1f1-4f6c-4ff2-adac-b998dc5d8a70"
      },
      "source": [
        "encontra_padrao(lista_padroes, frase)"
      ],
      "execution_count": 18,
      "outputs": [
        {
          "output_type": "stream",
          "text": [
            "Pesquisando na frase: '[a-z]+'\n",
            "['sta', 'uma', 'frase', 'de', 'exemplo', 'amos', 'verificar', 'quais', 'padr', 'es', 'ser', 'o', 'encontrados']\n",
            "\n",
            "\n",
            "Pesquisando na frase: '[A-Z]+'\n",
            "['E', 'V']\n",
            "\n",
            "\n",
            "Pesquisando na frase: '[a-zA-Z]+'\n",
            "['Esta', 'uma', 'frase', 'de', 'exemplo', 'Vamos', 'verificar', 'quais', 'padr', 'es', 'ser', 'o', 'encontrados']\n",
            "\n",
            "\n",
            "Pesquisando na frase: '[A-Z][a-z]+'\n",
            "['Esta', 'Vamos']\n",
            "\n",
            "\n"
          ],
          "name": "stdout"
        }
      ]
    },
    {
      "cell_type": "code",
      "metadata": {
        "id": "AM0vh06PTDEb",
        "colab_type": "code",
        "colab": {
          "base_uri": "https://localhost:8080/",
          "height": 34
        },
        "outputId": "c6f80ae6-cbf0-4934-966b-44aa7b8a9379"
      },
      "source": [
        "# O prefixo r antes da expressão regular evita o pré-processamento da ER \n",
        "# pela linguagem. Colocamos o modificador r (do inglês \"raw\", crú) \n",
        "# imediatamente antes das aspas\n",
        "r'\\b'"
      ],
      "execution_count": 19,
      "outputs": [
        {
          "output_type": "execute_result",
          "data": {
            "text/plain": [
              "'\\\\b'"
            ]
          },
          "metadata": {
            "tags": []
          },
          "execution_count": 19
        }
      ]
    },
    {
      "cell_type": "code",
      "metadata": {
        "id": "7LRbic8oTRzr",
        "colab_type": "code",
        "colab": {
          "base_uri": "https://localhost:8080/",
          "height": 34
        },
        "outputId": "af62ff73-2526-4dc0-d2df-6e663116c461"
      },
      "source": [
        "'\\b'"
      ],
      "execution_count": 20,
      "outputs": [
        {
          "output_type": "execute_result",
          "data": {
            "text/plain": [
              "'\\x08'"
            ]
          },
          "metadata": {
            "tags": []
          },
          "execution_count": 20
        }
      ]
    },
    {
      "cell_type": "code",
      "metadata": {
        "id": "hj2ZOgeGTUlr",
        "colab_type": "code",
        "colab": {}
      },
      "source": [
        "frase = 'Esta é uma string com alguns números, como 1287 e um símbolo #hashtag'\n",
        "\n",
        "lista_padroes = [ r'\\d+', # sequência de dígitos\n",
        "                  r'\\D+', # sequência de não-dígitos\n",
        "                  r'\\s+', # sequência de espaços\n",
        "                  r'\\S+', # sequência de não-espaços\n",
        "                  r'\\w+', # caracteres alfanuméricos\n",
        "                  r'\\W+', # não-alfanumérico\n",
        "                ]"
      ],
      "execution_count": 21,
      "outputs": []
    },
    {
      "cell_type": "code",
      "metadata": {
        "id": "GXBFNVcmTh5D",
        "colab_type": "code",
        "colab": {
          "base_uri": "https://localhost:8080/",
          "height": 459
        },
        "outputId": "6b8e525e-112c-4267-f6c8-79976cd3f6b3"
      },
      "source": [
        "encontra_padrao(lista_padroes, frase)"
      ],
      "execution_count": 22,
      "outputs": [
        {
          "output_type": "stream",
          "text": [
            "Pesquisando na frase: '\\\\d+'\n",
            "['1287']\n",
            "\n",
            "\n",
            "Pesquisando na frase: '\\\\D+'\n",
            "['Esta é uma string com alguns números, como ', ' e um símbolo #hashtag']\n",
            "\n",
            "\n",
            "Pesquisando na frase: '\\\\s+'\n",
            "[' ', ' ', ' ', ' ', ' ', ' ', ' ', ' ', ' ', ' ', ' ', ' ']\n",
            "\n",
            "\n",
            "Pesquisando na frase: '\\\\S+'\n",
            "['Esta', 'é', 'uma', 'string', 'com', 'alguns', 'números,', 'como', '1287', 'e', 'um', 'símbolo', '#hashtag']\n",
            "\n",
            "\n",
            "Pesquisando na frase: '\\\\w+'\n",
            "['Esta', 'é', 'uma', 'string', 'com', 'alguns', 'números', 'como', '1287', 'e', 'um', 'símbolo', 'hashtag']\n",
            "\n",
            "\n",
            "Pesquisando na frase: '\\\\W+'\n",
            "[' ', ' ', ' ', ' ', ' ', ' ', ', ', ' ', ' ', ' ', ' ', ' #']\n",
            "\n",
            "\n"
          ],
          "name": "stdout"
        }
      ]
    },
    {
      "cell_type": "code",
      "metadata": {
        "id": "tDxvnkvJTj8z",
        "colab_type": "code",
        "colab": {}
      },
      "source": [
        ""
      ],
      "execution_count": null,
      "outputs": []
    }
  ]
}